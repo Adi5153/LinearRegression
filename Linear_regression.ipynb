{
 "cells": [
  {
   "cell_type": "markdown",
   "id": "30f3cd17",
   "metadata": {},
   "source": [
    "# LinearRegression Sparks Foundation GRIP JULY2021 - Task 1 \n",
    "### Name : M.Aditya\n",
    "#### Task : To predict the percentage of students based on no. of study hours using linear regression"
   ]
  },
  {
   "cell_type": "markdown",
   "id": "15e172db",
   "metadata": {},
   "source": [
    "##  Main things to do \n",
    "\n",
    "    1. Using the whole data without spliting the dataset\n",
    "    2. Spliting the data into training and testing data\n",
    "        - Predict y value using linear regression predict function \n",
    "        - Predict y value using y = mx + c formula\n",
    "        - Compare the predicted values and plot a graph\n",
    "    3. Find the scores for 9.25 hrs of study"
   ]
  },
  {
   "cell_type": "code",
   "execution_count": 39,
   "id": "d7638918",
   "metadata": {},
   "outputs": [],
   "source": [
    "import pandas as pd \n",
    "import numpy as np\n",
    "from sklearn.linear_model import LinearRegression\n",
    "import matplotlib.pyplot as plt"
   ]
  },
  {
   "cell_type": "markdown",
   "id": "a8ffa080",
   "metadata": {},
   "source": [
    "#### To read the csv file using pandas"
   ]
  },
  {
   "cell_type": "code",
   "execution_count": 6,
   "id": "48bd0061",
   "metadata": {},
   "outputs": [],
   "source": [
    "df =  pd.read_csv(\"student_scores - student_scores.csv\")"
   ]
  },
  {
   "cell_type": "code",
   "execution_count": 7,
   "id": "495478c2",
   "metadata": {},
   "outputs": [
    {
     "data": {
      "text/html": [
       "<div>\n",
       "<style scoped>\n",
       "    .dataframe tbody tr th:only-of-type {\n",
       "        vertical-align: middle;\n",
       "    }\n",
       "\n",
       "    .dataframe tbody tr th {\n",
       "        vertical-align: top;\n",
       "    }\n",
       "\n",
       "    .dataframe thead th {\n",
       "        text-align: right;\n",
       "    }\n",
       "</style>\n",
       "<table border=\"1\" class=\"dataframe\">\n",
       "  <thead>\n",
       "    <tr style=\"text-align: right;\">\n",
       "      <th></th>\n",
       "      <th>Hours</th>\n",
       "      <th>Scores</th>\n",
       "    </tr>\n",
       "  </thead>\n",
       "  <tbody>\n",
       "    <tr>\n",
       "      <th>0</th>\n",
       "      <td>2.5</td>\n",
       "      <td>21</td>\n",
       "    </tr>\n",
       "    <tr>\n",
       "      <th>1</th>\n",
       "      <td>5.1</td>\n",
       "      <td>47</td>\n",
       "    </tr>\n",
       "    <tr>\n",
       "      <th>2</th>\n",
       "      <td>3.2</td>\n",
       "      <td>27</td>\n",
       "    </tr>\n",
       "    <tr>\n",
       "      <th>3</th>\n",
       "      <td>8.5</td>\n",
       "      <td>75</td>\n",
       "    </tr>\n",
       "    <tr>\n",
       "      <th>4</th>\n",
       "      <td>3.5</td>\n",
       "      <td>30</td>\n",
       "    </tr>\n",
       "    <tr>\n",
       "      <th>5</th>\n",
       "      <td>1.5</td>\n",
       "      <td>20</td>\n",
       "    </tr>\n",
       "    <tr>\n",
       "      <th>6</th>\n",
       "      <td>9.2</td>\n",
       "      <td>88</td>\n",
       "    </tr>\n",
       "    <tr>\n",
       "      <th>7</th>\n",
       "      <td>5.5</td>\n",
       "      <td>60</td>\n",
       "    </tr>\n",
       "    <tr>\n",
       "      <th>8</th>\n",
       "      <td>8.3</td>\n",
       "      <td>81</td>\n",
       "    </tr>\n",
       "    <tr>\n",
       "      <th>9</th>\n",
       "      <td>2.7</td>\n",
       "      <td>25</td>\n",
       "    </tr>\n",
       "    <tr>\n",
       "      <th>10</th>\n",
       "      <td>7.7</td>\n",
       "      <td>85</td>\n",
       "    </tr>\n",
       "    <tr>\n",
       "      <th>11</th>\n",
       "      <td>5.9</td>\n",
       "      <td>62</td>\n",
       "    </tr>\n",
       "    <tr>\n",
       "      <th>12</th>\n",
       "      <td>4.5</td>\n",
       "      <td>41</td>\n",
       "    </tr>\n",
       "    <tr>\n",
       "      <th>13</th>\n",
       "      <td>3.3</td>\n",
       "      <td>42</td>\n",
       "    </tr>\n",
       "    <tr>\n",
       "      <th>14</th>\n",
       "      <td>1.1</td>\n",
       "      <td>17</td>\n",
       "    </tr>\n",
       "    <tr>\n",
       "      <th>15</th>\n",
       "      <td>8.9</td>\n",
       "      <td>95</td>\n",
       "    </tr>\n",
       "    <tr>\n",
       "      <th>16</th>\n",
       "      <td>2.5</td>\n",
       "      <td>30</td>\n",
       "    </tr>\n",
       "    <tr>\n",
       "      <th>17</th>\n",
       "      <td>1.9</td>\n",
       "      <td>24</td>\n",
       "    </tr>\n",
       "    <tr>\n",
       "      <th>18</th>\n",
       "      <td>6.1</td>\n",
       "      <td>67</td>\n",
       "    </tr>\n",
       "    <tr>\n",
       "      <th>19</th>\n",
       "      <td>7.4</td>\n",
       "      <td>69</td>\n",
       "    </tr>\n",
       "    <tr>\n",
       "      <th>20</th>\n",
       "      <td>2.7</td>\n",
       "      <td>30</td>\n",
       "    </tr>\n",
       "    <tr>\n",
       "      <th>21</th>\n",
       "      <td>4.8</td>\n",
       "      <td>54</td>\n",
       "    </tr>\n",
       "    <tr>\n",
       "      <th>22</th>\n",
       "      <td>3.8</td>\n",
       "      <td>35</td>\n",
       "    </tr>\n",
       "    <tr>\n",
       "      <th>23</th>\n",
       "      <td>6.9</td>\n",
       "      <td>76</td>\n",
       "    </tr>\n",
       "    <tr>\n",
       "      <th>24</th>\n",
       "      <td>7.8</td>\n",
       "      <td>86</td>\n",
       "    </tr>\n",
       "  </tbody>\n",
       "</table>\n",
       "</div>"
      ],
      "text/plain": [
       "    Hours  Scores\n",
       "0     2.5      21\n",
       "1     5.1      47\n",
       "2     3.2      27\n",
       "3     8.5      75\n",
       "4     3.5      30\n",
       "5     1.5      20\n",
       "6     9.2      88\n",
       "7     5.5      60\n",
       "8     8.3      81\n",
       "9     2.7      25\n",
       "10    7.7      85\n",
       "11    5.9      62\n",
       "12    4.5      41\n",
       "13    3.3      42\n",
       "14    1.1      17\n",
       "15    8.9      95\n",
       "16    2.5      30\n",
       "17    1.9      24\n",
       "18    6.1      67\n",
       "19    7.4      69\n",
       "20    2.7      30\n",
       "21    4.8      54\n",
       "22    3.8      35\n",
       "23    6.9      76\n",
       "24    7.8      86"
      ]
     },
     "execution_count": 7,
     "metadata": {},
     "output_type": "execute_result"
    }
   ],
   "source": [
    "df"
   ]
  },
  {
   "cell_type": "code",
   "execution_count": 8,
   "id": "91190b9e",
   "metadata": {},
   "outputs": [
    {
     "data": {
      "text/plain": [
       "(0     2.5\n",
       " 1     5.1\n",
       " 2     3.2\n",
       " 3     8.5\n",
       " 4     3.5\n",
       " 5     1.5\n",
       " 6     9.2\n",
       " 7     5.5\n",
       " 8     8.3\n",
       " 9     2.7\n",
       " 10    7.7\n",
       " 11    5.9\n",
       " 12    4.5\n",
       " 13    3.3\n",
       " 14    1.1\n",
       " 15    8.9\n",
       " 16    2.5\n",
       " 17    1.9\n",
       " 18    6.1\n",
       " 19    7.4\n",
       " 20    2.7\n",
       " 21    4.8\n",
       " 22    3.8\n",
       " 23    6.9\n",
       " 24    7.8\n",
       " Name: Hours, dtype: float64,\n",
       " 0     21\n",
       " 1     47\n",
       " 2     27\n",
       " 3     75\n",
       " 4     30\n",
       " 5     20\n",
       " 6     88\n",
       " 7     60\n",
       " 8     81\n",
       " 9     25\n",
       " 10    85\n",
       " 11    62\n",
       " 12    41\n",
       " 13    42\n",
       " 14    17\n",
       " 15    95\n",
       " 16    30\n",
       " 17    24\n",
       " 18    67\n",
       " 19    69\n",
       " 20    30\n",
       " 21    54\n",
       " 22    35\n",
       " 23    76\n",
       " 24    86\n",
       " Name: Scores, dtype: int64)"
      ]
     },
     "execution_count": 8,
     "metadata": {},
     "output_type": "execute_result"
    }
   ],
   "source": [
    "df.Hours,df.Scores"
   ]
  },
  {
   "cell_type": "markdown",
   "id": "5b1d2b6e",
   "metadata": {},
   "source": [
    "#### Model Creation"
   ]
  },
  {
   "cell_type": "code",
   "execution_count": 9,
   "id": "fec8c84a",
   "metadata": {},
   "outputs": [],
   "source": [
    "model = LinearRegression()"
   ]
  },
  {
   "cell_type": "markdown",
   "id": "071a15a3",
   "metadata": {},
   "source": [
    "## Without spliting the dataset Into training and testing parts\n"
   ]
  },
  {
   "cell_type": "code",
   "execution_count": 10,
   "id": "747e1515",
   "metadata": {},
   "outputs": [
    {
     "data": {
      "text/plain": [
       "LinearRegression()"
      ]
     },
     "execution_count": 10,
     "metadata": {},
     "output_type": "execute_result"
    }
   ],
   "source": [
    "model.fit(df[['Hours']],df.Scores)"
   ]
  },
  {
   "cell_type": "code",
   "execution_count": 11,
   "id": "6418d420",
   "metadata": {},
   "outputs": [
    {
     "data": {
      "text/plain": [
       "(array([9.77580339]), 2.483673405373196)"
      ]
     },
     "execution_count": 11,
     "metadata": {},
     "output_type": "execute_result"
    }
   ],
   "source": [
    "model.coef_,model.intercept_"
   ]
  },
  {
   "cell_type": "code",
   "execution_count": 12,
   "id": "684c79bb",
   "metadata": {},
   "outputs": [],
   "source": [
    "yh_wout_split = model.predict([[9.25]])"
   ]
  },
  {
   "cell_type": "code",
   "execution_count": 13,
   "id": "5f9fbcaa",
   "metadata": {},
   "outputs": [
    {
     "data": {
      "text/plain": [
       "array([92.90985477])"
      ]
     },
     "execution_count": 13,
     "metadata": {},
     "output_type": "execute_result"
    }
   ],
   "source": [
    "yh_wout_split"
   ]
  },
  {
   "cell_type": "code",
   "execution_count": 69,
   "id": "f2e4e48f",
   "metadata": {},
   "outputs": [
    {
     "data": {
      "text/plain": [
       "<matplotlib.legend.Legend at 0x11a405250>"
      ]
     },
     "execution_count": 69,
     "metadata": {},
     "output_type": "execute_result"
    },
    {
     "data": {
      "image/png": "[encoded data removed]",
      "text/plain": [
       "<Figure size 432x288 with 1 Axes>"
      ]
     },
     "metadata": {
      "needs_background": "light"
     },
     "output_type": "display_data"
    }
   ],
   "source": [
    "plt.xlabel(\"Hours\")\n",
    "plt.ylabel(\"Scores\")\n",
    "plt.scatter(df[['Hours']],df.Scores,label=\"Not pre\")\n",
    "plt.plot(df[['Hours']],model.predict(df[['Hours']]),label=\"Pre\")\n",
    "plt.legend()\n"
   ]
  },
  {
   "cell_type": "markdown",
   "id": "acfcd792",
   "metadata": {},
   "source": [
    "## Now by spliting the dataset into training part and testing part"
   ]
  },
  {
   "cell_type": "code",
   "execution_count": 29,
   "id": "8964017e",
   "metadata": {},
   "outputs": [],
   "source": [
    "from sklearn.model_selection import train_test_split"
   ]
  },
  {
   "cell_type": "code",
   "execution_count": 41,
   "id": "ed9814f3",
   "metadata": {},
   "outputs": [],
   "source": [
    "X = df['Hours']\n",
    "y= df['Scores']"
   ]
  },
  {
   "cell_type": "code",
   "execution_count": 42,
   "id": "101d5659",
   "metadata": {},
   "outputs": [],
   "source": [
    "X_train, X_test, y_train, y_test = train_test_split(\n",
    "     X, y, test_size=0.33, random_state=42)"
   ]
  },
  {
   "cell_type": "code",
   "execution_count": 43,
   "id": "9cb8e974",
   "metadata": {},
   "outputs": [
    {
     "data": {
      "text/plain": [
       "(5     1.5\n",
       " 2     3.2\n",
       " 12    4.5\n",
       " 15    8.9\n",
       " 3     8.5\n",
       " 4     3.5\n",
       " 20    2.7\n",
       " 17    1.9\n",
       " 21    4.8\n",
       " 18    6.1\n",
       " 24    7.8\n",
       " 7     5.5\n",
       " 10    7.7\n",
       " 14    1.1\n",
       " 19    7.4\n",
       " 6     9.2\n",
       " Name: Hours, dtype: float64,\n",
       " 5     20\n",
       " 2     27\n",
       " 12    41\n",
       " 15    95\n",
       " 3     75\n",
       " 4     30\n",
       " 20    30\n",
       " 17    24\n",
       " 21    54\n",
       " 18    67\n",
       " 24    86\n",
       " 7     60\n",
       " 10    85\n",
       " 14    17\n",
       " 19    69\n",
       " 6     88\n",
       " Name: Scores, dtype: int64)"
      ]
     },
     "execution_count": 43,
     "metadata": {},
     "output_type": "execute_result"
    }
   ],
   "source": [
    "X_train,y_train"
   ]
  },
  {
   "cell_type": "code",
   "execution_count": 44,
   "id": "2242f914",
   "metadata": {},
   "outputs": [
    {
     "data": {
      "text/plain": [
       "(8     8.3\n",
       " 16    2.5\n",
       " 0     2.5\n",
       " 23    6.9\n",
       " 11    5.9\n",
       " 9     2.7\n",
       " 13    3.3\n",
       " 1     5.1\n",
       " 22    3.8\n",
       " Name: Hours, dtype: float64,\n",
       " 8     81\n",
       " 16    30\n",
       " 0     21\n",
       " 23    76\n",
       " 11    62\n",
       " 9     25\n",
       " 13    42\n",
       " 1     47\n",
       " 22    35\n",
       " Name: Scores, dtype: int64)"
      ]
     },
     "execution_count": 44,
     "metadata": {},
     "output_type": "execute_result"
    }
   ],
   "source": [
    "X_test,y_test"
   ]
  },
  {
   "cell_type": "markdown",
   "id": "5c15f5b4",
   "metadata": {},
   "source": [
    "### Now we will start training the model\n",
    " - If we dont convert X into 2d array it wont work\n",
    " - Similarly y needs to be a 1d array "
   ]
  },
  {
   "cell_type": "code",
   "execution_count": 45,
   "id": "25ec034b",
   "metadata": {},
   "outputs": [
    {
     "data": {
      "text/plain": [
       "(16, 1)"
      ]
     },
     "execution_count": 45,
     "metadata": {},
     "output_type": "execute_result"
    }
   ],
   "source": [
    "X_train.shape, y_train.shape\n",
    "X_train = X_train.values.reshape(-1,1)\n",
    "X_test = X_test.values.reshape(-1,1)\n",
    "X_train.shape"
   ]
  },
  {
   "cell_type": "code",
   "execution_count": 46,
   "id": "622e476f",
   "metadata": {},
   "outputs": [
    {
     "data": {
      "text/plain": [
       "(9, 1)"
      ]
     },
     "execution_count": 46,
     "metadata": {},
     "output_type": "execute_result"
    }
   ],
   "source": [
    "X_test.shape"
   ]
  },
  {
   "cell_type": "code",
   "execution_count": 47,
   "id": "21c96d9c",
   "metadata": {},
   "outputs": [
    {
     "data": {
      "text/plain": [
       "LinearRegression()"
      ]
     },
     "execution_count": 47,
     "metadata": {},
     "output_type": "execute_result"
    }
   ],
   "source": [
    "model = LinearRegression()\n",
    "model.fit(X_train,y_train)"
   ]
  },
  {
   "cell_type": "code",
   "execution_count": 48,
   "id": "86c477bd",
   "metadata": {},
   "outputs": [
    {
     "data": {
      "text/plain": [
       "(array([9.65029083]), 3.4050301755918966)"
      ]
     },
     "execution_count": 48,
     "metadata": {},
     "output_type": "execute_result"
    }
   ],
   "source": [
    "model.coef_,model.intercept_"
   ]
  },
  {
   "cell_type": "code",
   "execution_count": 49,
   "id": "64860198",
   "metadata": {},
   "outputs": [],
   "source": [
    "y_pre = model.predict(X_test)"
   ]
  },
  {
   "cell_type": "code",
   "execution_count": 50,
   "id": "e376d66e",
   "metadata": {},
   "outputs": [],
   "source": [
    "data = {'y_test':y_test,'y_pre':y_pre}\n",
    "dt =pd.DataFrame(data)\n"
   ]
  },
  {
   "cell_type": "markdown",
   "id": "c816001b",
   "metadata": {},
   "source": [
    "### Now we can compare the actual values and the values which have been predicted"
   ]
  },
  {
   "cell_type": "code",
   "execution_count": 51,
   "id": "f912f3f0",
   "metadata": {},
   "outputs": [
    {
     "data": {
      "text/html": [
       "<div>\n",
       "<style scoped>\n",
       "    .dataframe tbody tr th:only-of-type {\n",
       "        vertical-align: middle;\n",
       "    }\n",
       "\n",
       "    .dataframe tbody tr th {\n",
       "        vertical-align: top;\n",
       "    }\n",
       "\n",
       "    .dataframe thead th {\n",
       "        text-align: right;\n",
       "    }\n",
       "</style>\n",
       "<table border=\"1\" class=\"dataframe\">\n",
       "  <thead>\n",
       "    <tr style=\"text-align: right;\">\n",
       "      <th></th>\n",
       "      <th>y_test</th>\n",
       "      <th>y_pre</th>\n",
       "    </tr>\n",
       "  </thead>\n",
       "  <tbody>\n",
       "    <tr>\n",
       "      <th>8</th>\n",
       "      <td>81</td>\n",
       "      <td>83.502444</td>\n",
       "    </tr>\n",
       "    <tr>\n",
       "      <th>16</th>\n",
       "      <td>30</td>\n",
       "      <td>27.530757</td>\n",
       "    </tr>\n",
       "    <tr>\n",
       "      <th>0</th>\n",
       "      <td>21</td>\n",
       "      <td>27.530757</td>\n",
       "    </tr>\n",
       "    <tr>\n",
       "      <th>23</th>\n",
       "      <td>76</td>\n",
       "      <td>69.992037</td>\n",
       "    </tr>\n",
       "    <tr>\n",
       "      <th>11</th>\n",
       "      <td>62</td>\n",
       "      <td>60.341746</td>\n",
       "    </tr>\n",
       "    <tr>\n",
       "      <th>9</th>\n",
       "      <td>25</td>\n",
       "      <td>29.460815</td>\n",
       "    </tr>\n",
       "    <tr>\n",
       "      <th>13</th>\n",
       "      <td>42</td>\n",
       "      <td>35.250990</td>\n",
       "    </tr>\n",
       "    <tr>\n",
       "      <th>1</th>\n",
       "      <td>47</td>\n",
       "      <td>52.621513</td>\n",
       "    </tr>\n",
       "    <tr>\n",
       "      <th>22</th>\n",
       "      <td>35</td>\n",
       "      <td>40.076135</td>\n",
       "    </tr>\n",
       "  </tbody>\n",
       "</table>\n",
       "</div>"
      ],
      "text/plain": [
       "    y_test      y_pre\n",
       "8       81  83.502444\n",
       "16      30  27.530757\n",
       "0       21  27.530757\n",
       "23      76  69.992037\n",
       "11      62  60.341746\n",
       "9       25  29.460815\n",
       "13      42  35.250990\n",
       "1       47  52.621513\n",
       "22      35  40.076135"
      ]
     },
     "execution_count": 51,
     "metadata": {},
     "output_type": "execute_result"
    }
   ],
   "source": [
    "dt"
   ]
  },
  {
   "cell_type": "markdown",
   "id": "cc85cf50",
   "metadata": {},
   "source": [
    "### Now lets test using y = mx+c formula "
   ]
  },
  {
   "cell_type": "code",
   "execution_count": 52,
   "id": "eaf23bd2",
   "metadata": {},
   "outputs": [],
   "source": [
    "y_form = model.coef_*X_test + model.intercept_"
   ]
  },
  {
   "cell_type": "code",
   "execution_count": 53,
   "id": "d75c5edf",
   "metadata": {},
   "outputs": [
    {
     "data": {
      "text/plain": [
       "(array([83.50244409, 27.53075726, 27.53075726, 69.99203692, 60.34174609,\n",
       "        29.46081542, 35.25098992, 52.62151342, 40.07613534]),\n",
       " array([[83.50244409],\n",
       "        [27.53075726],\n",
       "        [27.53075726],\n",
       "        [69.99203692],\n",
       "        [60.34174609],\n",
       "        [29.46081542],\n",
       "        [35.25098992],\n",
       "        [52.62151342],\n",
       "        [40.07613534]]))"
      ]
     },
     "execution_count": 53,
     "metadata": {},
     "output_type": "execute_result"
    }
   ],
   "source": [
    "y_pre,y_form"
   ]
  },
  {
   "cell_type": "code",
   "execution_count": 54,
   "id": "f529e0ad",
   "metadata": {},
   "outputs": [
    {
     "data": {
      "text/plain": [
       "((9, 1), (9,))"
      ]
     },
     "execution_count": 54,
     "metadata": {},
     "output_type": "execute_result"
    }
   ],
   "source": [
    "y_form.shape, y_pre.shape"
   ]
  },
  {
   "cell_type": "markdown",
   "id": "e81804d6",
   "metadata": {},
   "source": [
    "### We use flatten to convert the array from 2d to 1d array"
   ]
  },
  {
   "cell_type": "code",
   "execution_count": 55,
   "id": "706ec664",
   "metadata": {},
   "outputs": [
    {
     "data": {
      "text/plain": [
       "(9,)"
      ]
     },
     "execution_count": 55,
     "metadata": {},
     "output_type": "execute_result"
    }
   ],
   "source": [
    "y_form = y_form.reshape(1,-1)\n",
    "y_form=y_form.flatten()\n",
    "y_form.shape"
   ]
  },
  {
   "cell_type": "code",
   "execution_count": 56,
   "id": "1b5cb8dc",
   "metadata": {},
   "outputs": [
    {
     "data": {
      "text/plain": [
       "array([83.50244409, 27.53075726, 27.53075726, 69.99203692, 60.34174609,\n",
       "       29.46081542, 35.25098992, 52.62151342, 40.07613534])"
      ]
     },
     "execution_count": 56,
     "metadata": {},
     "output_type": "execute_result"
    }
   ],
   "source": [
    "y_form"
   ]
  },
  {
   "cell_type": "code",
   "execution_count": 57,
   "id": "09ccdca6",
   "metadata": {},
   "outputs": [],
   "source": [
    "data1 = {'y_test':y_test,'y_pre':y_pre,'y_form':y_form }\n",
    "ds =pd.DataFrame(data1)"
   ]
  },
  {
   "cell_type": "code",
   "execution_count": 58,
   "id": "cd9b2f92",
   "metadata": {},
   "outputs": [
    {
     "data": {
      "text/html": [
       "<div>\n",
       "<style scoped>\n",
       "    .dataframe tbody tr th:only-of-type {\n",
       "        vertical-align: middle;\n",
       "    }\n",
       "\n",
       "    .dataframe tbody tr th {\n",
       "        vertical-align: top;\n",
       "    }\n",
       "\n",
       "    .dataframe thead th {\n",
       "        text-align: right;\n",
       "    }\n",
       "</style>\n",
       "<table border=\"1\" class=\"dataframe\">\n",
       "  <thead>\n",
       "    <tr style=\"text-align: right;\">\n",
       "      <th></th>\n",
       "      <th>y_test</th>\n",
       "      <th>y_pre</th>\n",
       "      <th>y_form</th>\n",
       "    </tr>\n",
       "  </thead>\n",
       "  <tbody>\n",
       "    <tr>\n",
       "      <th>8</th>\n",
       "      <td>81</td>\n",
       "      <td>83.502444</td>\n",
       "      <td>83.502444</td>\n",
       "    </tr>\n",
       "    <tr>\n",
       "      <th>16</th>\n",
       "      <td>30</td>\n",
       "      <td>27.530757</td>\n",
       "      <td>27.530757</td>\n",
       "    </tr>\n",
       "    <tr>\n",
       "      <th>0</th>\n",
       "      <td>21</td>\n",
       "      <td>27.530757</td>\n",
       "      <td>27.530757</td>\n",
       "    </tr>\n",
       "    <tr>\n",
       "      <th>23</th>\n",
       "      <td>76</td>\n",
       "      <td>69.992037</td>\n",
       "      <td>69.992037</td>\n",
       "    </tr>\n",
       "    <tr>\n",
       "      <th>11</th>\n",
       "      <td>62</td>\n",
       "      <td>60.341746</td>\n",
       "      <td>60.341746</td>\n",
       "    </tr>\n",
       "    <tr>\n",
       "      <th>9</th>\n",
       "      <td>25</td>\n",
       "      <td>29.460815</td>\n",
       "      <td>29.460815</td>\n",
       "    </tr>\n",
       "    <tr>\n",
       "      <th>13</th>\n",
       "      <td>42</td>\n",
       "      <td>35.250990</td>\n",
       "      <td>35.250990</td>\n",
       "    </tr>\n",
       "    <tr>\n",
       "      <th>1</th>\n",
       "      <td>47</td>\n",
       "      <td>52.621513</td>\n",
       "      <td>52.621513</td>\n",
       "    </tr>\n",
       "    <tr>\n",
       "      <th>22</th>\n",
       "      <td>35</td>\n",
       "      <td>40.076135</td>\n",
       "      <td>40.076135</td>\n",
       "    </tr>\n",
       "  </tbody>\n",
       "</table>\n",
       "</div>"
      ],
      "text/plain": [
       "    y_test      y_pre     y_form\n",
       "8       81  83.502444  83.502444\n",
       "16      30  27.530757  27.530757\n",
       "0       21  27.530757  27.530757\n",
       "23      76  69.992037  69.992037\n",
       "11      62  60.341746  60.341746\n",
       "9       25  29.460815  29.460815\n",
       "13      42  35.250990  35.250990\n",
       "1       47  52.621513  52.621513\n",
       "22      35  40.076135  40.076135"
      ]
     },
     "execution_count": 58,
     "metadata": {},
     "output_type": "execute_result"
    }
   ],
   "source": [
    "ds"
   ]
  },
  {
   "cell_type": "markdown",
   "id": "8bc13800",
   "metadata": {},
   "source": [
    "### We can evaluate the model by trying out mean squared error formula\n",
    "- Here we can compare using actual y value and predicted value"
   ]
  },
  {
   "cell_type": "code",
   "execution_count": 63,
   "id": "4729cbd3",
   "metadata": {},
   "outputs": [
    {
     "name": "stdout",
     "output_type": "stream",
     "text": [
      "Mean absolute error:  4.564015037730867\n"
     ]
    }
   ],
   "source": [
    "from sklearn.metrics import mean_absolute_error \n",
    "print('Mean absolute error: ',mean_absolute_error(y_test,y_pre))"
   ]
  },
  {
   "cell_type": "markdown",
   "id": "86ae9999",
   "metadata": {},
   "source": [
    "### Here only one colour is shown because the Predict value and the formula have the same values as observed from the dataframe above. That is why the orange line covers the blue line"
   ]
  },
  {
   "cell_type": "code",
   "execution_count": 59,
   "id": "70070a6f",
   "metadata": {},
   "outputs": [
    {
     "data": {
      "text/plain": [
       "<matplotlib.legend.Legend at 0x119ce5d30>"
      ]
     },
     "execution_count": 59,
     "metadata": {},
     "output_type": "execute_result"
    },
    {
     "data": {
      "image/png": "[encoded data removed]",
      "text/plain": [
       "<Figure size 432x288 with 1 Axes>"
      ]
     },
     "metadata": {
      "needs_background": "light"
     },
     "output_type": "display_data"
    }
   ],
   "source": [
    "plt.scatter(X_test,y_test)\n",
    "plt.plot(X_test,y_form,label=\"Form\")\n",
    "plt.plot(X_test,y_pre,label=\"Pre\")\n",
    "plt.legend()"
   ]
  },
  {
   "cell_type": "markdown",
   "id": "6138a938",
   "metadata": {},
   "source": [
    "## Now lets the predict the score for 9.25 hrs"
   ]
  },
  {
   "cell_type": "code",
   "execution_count": 60,
   "id": "36614e42",
   "metadata": {},
   "outputs": [
    {
     "data": {
      "text/plain": [
       "array([92.67022038])"
      ]
     },
     "execution_count": 60,
     "metadata": {},
     "output_type": "execute_result"
    }
   ],
   "source": [
    "X_to_pred = [[9.25]]\n",
    "y_score = model.predict(X_to_pred)\n",
    "y_score"
   ]
  },
  {
   "cell_type": "code",
   "execution_count": 61,
   "id": "87c00623",
   "metadata": {},
   "outputs": [
    {
     "data": {
      "text/plain": [
       "array([92.90985477])"
      ]
     },
     "execution_count": 61,
     "metadata": {},
     "output_type": "execute_result"
    }
   ],
   "source": [
    "yh_wout_split\n"
   ]
  },
  {
   "cell_type": "code",
   "execution_count": null,
   "id": "0859d59b",
   "metadata": {},
   "outputs": [],
   "source": []
  }
 ],
 "metadata": {
  "kernelspec": {
   "display_name": "Python 3",
   "language": "python",
   "name": "python3"
  },
  "language_info": {
   "codemirror_mode": {
    "name": "ipython",
    "version": 3
   },
   "file_extension": ".py",
   "mimetype": "text/x-python",
   "name": "python",
   "nbconvert_exporter": "python",
   "pygments_lexer": "ipython3",
   "version": "3.8.8"
  }
 },
 "nbformat": 4,
 "nbformat_minor": 5
}
